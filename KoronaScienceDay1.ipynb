{
  "nbformat": 4,
  "nbformat_minor": 0,
  "metadata": {
    "colab": {
      "name": "KoronaScienceDay1.ipynb",
      "provenance": [],
      "include_colab_link": true
    },
    "kernelspec": {
      "name": "python3",
      "display_name": "Python 3"
    }
  },
  "cells": [
    {
      "cell_type": "markdown",
      "metadata": {
        "id": "view-in-github",
        "colab_type": "text"
      },
      "source": [
        "<a href=\"https://colab.research.google.com/github/vainamonen/KoronaScience/blob/master/KoronaScienceDay1.ipynb\" target=\"_parent\"><img src=\"https://colab.research.google.com/assets/colab-badge.svg\" alt=\"Open In Colab\"/></a>"
      ]
    },
    {
      "cell_type": "code",
      "metadata": {
        "id": "ucKi-mqDBJSD",
        "colab_type": "code",
        "colab": {}
      },
      "source": [
        "## Import Libraries\n",
        "import numpy as np\n",
        "import pandas as pd\n",
        "import matplotlib.pyplot as plt\n",
        "from pandas.plotting import register_matplotlib_converters\n",
        "register_matplotlib_converters()\n",
        "#%matplotlib inline\n",
        "import plotly.express as px\n",
        "import plotly.graph_objects as go\n",
        "from plotly.subplots import make_subplots\n",
        "plt.rcParams['figure.figsize'] = [15, 5]\n",
        "from IPython import display\n",
        "from ipywidgets import interact, widgets\n",
        "\n",
        "## Read Data for Cases, Deaths and Recoveries\n",
        "ConfirmedCases_raw=pd.read_csv('https://raw.githubusercontent.com/CSSEGISandData/COVID-19/master/csse_covid_19_data/csse_covid_19_time_series/time_series_19-covid-Confirmed.csv')\n",
        "Deaths_raw=pd.read_csv('https://raw.githubusercontent.com/CSSEGISandData/COVID-19/master/csse_covid_19_data/csse_covid_19_time_series/time_series_19-covid-Deaths.csv')\n",
        "Recoveries_raw=pd.read_csv('https://raw.githubusercontent.com/CSSEGISandData/COVID-19/master/csse_covid_19_data/csse_covid_19_time_series/time_series_19-covid-Recovered.csv')"
      ],
      "execution_count": 0,
      "outputs": []
    },
    {
      "cell_type": "markdown",
      "metadata": {
        "id": "Q8hNSZhfBODM",
        "colab_type": "text"
      },
      "source": [
        "\n",
        "\n",
        "```\n",
        "# This is formatted as code\n",
        "```\n",
        "\n",
        "Pobieranie danychi import bibliotek"
      ]
    },
    {
      "cell_type": "code",
      "metadata": {
        "id": "_CIRK8bFBOfO",
        "colab_type": "code",
        "colab": {}
      },
      "source": [
        "def cleandata(df_raw):\n",
        "    df_cleaned=df_raw.melt(id_vars=['Province/State','Country/Region','Lat','Long'],value_name='Cases',var_name='Date')\n",
        "    df_cleaned=df_cleaned.set_index(['Country/Region','Province/State','Date'])\n",
        "    return df_cleaned \n",
        "\n",
        "# Clean all datasets\n",
        "ConfirmedCases=cleandata(ConfirmedCases_raw)\n",
        "Deaths=cleandata(Deaths_raw)\n",
        "Recoveries=cleandata(Recoveries_raw)"
      ],
      "execution_count": 0,
      "outputs": []
    },
    {
      "cell_type": "code",
      "metadata": {
        "id": "KRndVlKw1pJe",
        "colab_type": "code",
        "outputId": "c645cd6e-f37f-456e-addb-20588b0e62eb",
        "colab": {
          "base_uri": "https://localhost:8080/",
          "height": 450
        }
      },
      "source": [
        "ConfirmedCases"
      ],
      "execution_count": 0,
      "outputs": [
        {
          "output_type": "execute_result",
          "data": {
            "text/html": [
              "<div>\n",
              "<style scoped>\n",
              "    .dataframe tbody tr th:only-of-type {\n",
              "        vertical-align: middle;\n",
              "    }\n",
              "\n",
              "    .dataframe tbody tr th {\n",
              "        vertical-align: top;\n",
              "    }\n",
              "\n",
              "    .dataframe thead th {\n",
              "        text-align: right;\n",
              "    }\n",
              "</style>\n",
              "<table border=\"1\" class=\"dataframe\">\n",
              "  <thead>\n",
              "    <tr style=\"text-align: right;\">\n",
              "      <th></th>\n",
              "      <th></th>\n",
              "      <th></th>\n",
              "      <th>Lat</th>\n",
              "      <th>Long</th>\n",
              "      <th>Cases</th>\n",
              "    </tr>\n",
              "    <tr>\n",
              "      <th>Country/Region</th>\n",
              "      <th>Province/State</th>\n",
              "      <th>Date</th>\n",
              "      <th></th>\n",
              "      <th></th>\n",
              "      <th></th>\n",
              "    </tr>\n",
              "  </thead>\n",
              "  <tbody>\n",
              "    <tr>\n",
              "      <th>Thailand</th>\n",
              "      <th>NaN</th>\n",
              "      <th>1/22/20</th>\n",
              "      <td>15.0000</td>\n",
              "      <td>101.0000</td>\n",
              "      <td>2</td>\n",
              "    </tr>\n",
              "    <tr>\n",
              "      <th>Japan</th>\n",
              "      <th>NaN</th>\n",
              "      <th>1/22/20</th>\n",
              "      <td>36.0000</td>\n",
              "      <td>138.0000</td>\n",
              "      <td>2</td>\n",
              "    </tr>\n",
              "    <tr>\n",
              "      <th>Singapore</th>\n",
              "      <th>NaN</th>\n",
              "      <th>1/22/20</th>\n",
              "      <td>1.2833</td>\n",
              "      <td>103.8333</td>\n",
              "      <td>0</td>\n",
              "    </tr>\n",
              "    <tr>\n",
              "      <th>Nepal</th>\n",
              "      <th>NaN</th>\n",
              "      <th>1/22/20</th>\n",
              "      <td>28.1667</td>\n",
              "      <td>84.2500</td>\n",
              "      <td>0</td>\n",
              "    </tr>\n",
              "    <tr>\n",
              "      <th>Malaysia</th>\n",
              "      <th>NaN</th>\n",
              "      <th>1/22/20</th>\n",
              "      <td>2.5000</td>\n",
              "      <td>112.5000</td>\n",
              "      <td>0</td>\n",
              "    </tr>\n",
              "    <tr>\n",
              "      <th>...</th>\n",
              "      <th>...</th>\n",
              "      <th>...</th>\n",
              "      <td>...</td>\n",
              "      <td>...</td>\n",
              "      <td>...</td>\n",
              "    </tr>\n",
              "    <tr>\n",
              "      <th rowspan=\"5\" valign=\"top\">US</th>\n",
              "      <th>Socorro, NM</th>\n",
              "      <th>3/11/20</th>\n",
              "      <td>33.8837</td>\n",
              "      <td>-106.7235</td>\n",
              "      <td>0</td>\n",
              "    </tr>\n",
              "    <tr>\n",
              "      <th>Bernalillo, NM</th>\n",
              "      <th>3/11/20</th>\n",
              "      <td>35.0178</td>\n",
              "      <td>-106.6291</td>\n",
              "      <td>0</td>\n",
              "    </tr>\n",
              "    <tr>\n",
              "      <th>Oakland, MI</th>\n",
              "      <th>3/11/20</th>\n",
              "      <td>42.5922</td>\n",
              "      <td>-83.3362</td>\n",
              "      <td>0</td>\n",
              "    </tr>\n",
              "    <tr>\n",
              "      <th>Wayne, MI</th>\n",
              "      <th>3/11/20</th>\n",
              "      <td>42.2791</td>\n",
              "      <td>-83.3362</td>\n",
              "      <td>0</td>\n",
              "    </tr>\n",
              "    <tr>\n",
              "      <th>New Castle, DE</th>\n",
              "      <th>3/11/20</th>\n",
              "      <td>39.5393</td>\n",
              "      <td>-75.6674</td>\n",
              "      <td>0</td>\n",
              "    </tr>\n",
              "  </tbody>\n",
              "</table>\n",
              "<p>20200 rows × 3 columns</p>\n",
              "</div>"
            ],
            "text/plain": [
              "                                           Lat      Long  Cases\n",
              "Country/Region Province/State Date                             \n",
              "Thailand       NaN            1/22/20  15.0000  101.0000      2\n",
              "Japan          NaN            1/22/20  36.0000  138.0000      2\n",
              "Singapore      NaN            1/22/20   1.2833  103.8333      0\n",
              "Nepal          NaN            1/22/20  28.1667   84.2500      0\n",
              "Malaysia       NaN            1/22/20   2.5000  112.5000      0\n",
              "...                                        ...       ...    ...\n",
              "US             Socorro, NM    3/11/20  33.8837 -106.7235      0\n",
              "               Bernalillo, NM 3/11/20  35.0178 -106.6291      0\n",
              "               Oakland, MI    3/11/20  42.5922  -83.3362      0\n",
              "               Wayne, MI      3/11/20  42.2791  -83.3362      0\n",
              "               New Castle, DE 3/11/20  39.5393  -75.6674      0\n",
              "\n",
              "[20200 rows x 3 columns]"
            ]
          },
          "metadata": {
            "tags": []
          },
          "execution_count": 6
        }
      ]
    },
    {
      "cell_type": "code",
      "metadata": {
        "id": "FwOBuXKqQITL",
        "colab_type": "code",
        "colab": {}
      },
      "source": [
        "polska=ConfirmedCases.loc[\"Poland\"]"
      ],
      "execution_count": 0,
      "outputs": []
    },
    {
      "cell_type": "code",
      "metadata": {
        "id": "OBioMfoDQTlM",
        "colab_type": "code",
        "outputId": "f17c3253-8fed-4039-808f-a7bbdb3e0264",
        "colab": {
          "base_uri": "https://localhost:8080/",
          "height": 390
        }
      },
      "source": [
        "polska.tail(10)"
      ],
      "execution_count": 0,
      "outputs": [
        {
          "output_type": "execute_result",
          "data": {
            "text/html": [
              "<div>\n",
              "<style scoped>\n",
              "    .dataframe tbody tr th:only-of-type {\n",
              "        vertical-align: middle;\n",
              "    }\n",
              "\n",
              "    .dataframe tbody tr th {\n",
              "        vertical-align: top;\n",
              "    }\n",
              "\n",
              "    .dataframe thead th {\n",
              "        text-align: right;\n",
              "    }\n",
              "</style>\n",
              "<table border=\"1\" class=\"dataframe\">\n",
              "  <thead>\n",
              "    <tr style=\"text-align: right;\">\n",
              "      <th></th>\n",
              "      <th></th>\n",
              "      <th>Lat</th>\n",
              "      <th>Long</th>\n",
              "      <th>Cases</th>\n",
              "    </tr>\n",
              "    <tr>\n",
              "      <th>Province/State</th>\n",
              "      <th>Date</th>\n",
              "      <th></th>\n",
              "      <th></th>\n",
              "      <th></th>\n",
              "    </tr>\n",
              "  </thead>\n",
              "  <tbody>\n",
              "    <tr>\n",
              "      <th rowspan=\"10\" valign=\"top\">NaN</th>\n",
              "      <th>3/2/20</th>\n",
              "      <td>51.9194</td>\n",
              "      <td>19.1451</td>\n",
              "      <td>0</td>\n",
              "    </tr>\n",
              "    <tr>\n",
              "      <th>3/3/20</th>\n",
              "      <td>51.9194</td>\n",
              "      <td>19.1451</td>\n",
              "      <td>0</td>\n",
              "    </tr>\n",
              "    <tr>\n",
              "      <th>3/4/20</th>\n",
              "      <td>51.9194</td>\n",
              "      <td>19.1451</td>\n",
              "      <td>1</td>\n",
              "    </tr>\n",
              "    <tr>\n",
              "      <th>3/5/20</th>\n",
              "      <td>51.9194</td>\n",
              "      <td>19.1451</td>\n",
              "      <td>1</td>\n",
              "    </tr>\n",
              "    <tr>\n",
              "      <th>3/6/20</th>\n",
              "      <td>51.9194</td>\n",
              "      <td>19.1451</td>\n",
              "      <td>5</td>\n",
              "    </tr>\n",
              "    <tr>\n",
              "      <th>3/7/20</th>\n",
              "      <td>51.9194</td>\n",
              "      <td>19.1451</td>\n",
              "      <td>5</td>\n",
              "    </tr>\n",
              "    <tr>\n",
              "      <th>3/8/20</th>\n",
              "      <td>51.9194</td>\n",
              "      <td>19.1451</td>\n",
              "      <td>11</td>\n",
              "    </tr>\n",
              "    <tr>\n",
              "      <th>3/9/20</th>\n",
              "      <td>51.9194</td>\n",
              "      <td>19.1451</td>\n",
              "      <td>16</td>\n",
              "    </tr>\n",
              "    <tr>\n",
              "      <th>3/10/20</th>\n",
              "      <td>51.9194</td>\n",
              "      <td>19.1451</td>\n",
              "      <td>22</td>\n",
              "    </tr>\n",
              "    <tr>\n",
              "      <th>3/11/20</th>\n",
              "      <td>51.9194</td>\n",
              "      <td>19.1451</td>\n",
              "      <td>31</td>\n",
              "    </tr>\n",
              "  </tbody>\n",
              "</table>\n",
              "</div>"
            ],
            "text/plain": [
              "                            Lat     Long  Cases\n",
              "Province/State Date                            \n",
              "NaN            3/2/20   51.9194  19.1451      0\n",
              "               3/3/20   51.9194  19.1451      0\n",
              "               3/4/20   51.9194  19.1451      1\n",
              "               3/5/20   51.9194  19.1451      1\n",
              "               3/6/20   51.9194  19.1451      5\n",
              "               3/7/20   51.9194  19.1451      5\n",
              "               3/8/20   51.9194  19.1451     11\n",
              "               3/9/20   51.9194  19.1451     16\n",
              "               3/10/20  51.9194  19.1451     22\n",
              "               3/11/20  51.9194  19.1451     31"
            ]
          },
          "metadata": {
            "tags": []
          },
          "execution_count": 13
        }
      ]
    },
    {
      "cell_type": "code",
      "metadata": {
        "id": "tHd7PIXVQajC",
        "colab_type": "code",
        "outputId": "a9c8820b-15b4-486e-c771-c576a9114541",
        "colab": {
          "base_uri": "https://localhost:8080/",
          "height": 530
        }
      },
      "source": [
        "polska.tail(20).plot(y='Cases', figsize=(12,8), marker='o', title='Przypadki potwierdzone wykrycia COVID-19')\n"
      ],
      "execution_count": 0,
      "outputs": [
        {
          "output_type": "execute_result",
          "data": {
            "text/plain": [
              "<matplotlib.axes._subplots.AxesSubplot at 0x7f08470d95c0>"
            ]
          },
          "metadata": {
            "tags": []
          },
          "execution_count": 16
        },
        {
          "output_type": "display_data",
          "data": {
            "image/png": "[encoded data removed]",
            "text/plain": [
              "<Figure size 864x576 with 1 Axes>"
            ]
          },
          "metadata": {
            "tags": []
          }
        }
      ]
    },
    {
      "cell_type": "code",
      "metadata": {
        "id": "jTHsaH2tTDtb",
        "colab_type": "code",
        "outputId": "50dcb8f1-ab58-4742-98e0-639c310ab220",
        "colab": {
          "base_uri": "https://localhost:8080/",
          "height": 85
        }
      },
      "source": [
        "Hubei=ConfirmedCases.loc[\"China\", \"Hubei\"]"
      ],
      "execution_count": 0,
      "outputs": [
        {
          "output_type": "stream",
          "text": [
            "/usr/local/lib/python3.6/dist-packages/ipykernel_launcher.py:1: PerformanceWarning:\n",
            "\n",
            "indexing past lexsort depth may impact performance.\n",
            "\n"
          ],
          "name": "stderr"
        }
      ]
    },
    {
      "cell_type": "code",
      "metadata": {
        "id": "ypBj4vc_TsA4",
        "colab_type": "code",
        "colab": {}
      },
      "source": [
        "razem=polska.merge(Hubei, left_on=\"Date\", right_on=\"Date\")"
      ],
      "execution_count": 0,
      "outputs": []
    },
    {
      "cell_type": "code",
      "metadata": {
        "id": "jpQEu_IPUYJ3",
        "colab_type": "code",
        "outputId": "6be26413-63cd-462e-8b66-310b8933b614",
        "colab": {
          "base_uri": "https://localhost:8080/",
          "height": 1000
        }
      },
      "source": [
        "razem"
      ],
      "execution_count": 0,
      "outputs": [
        {
          "output_type": "execute_result",
          "data": {
            "text/html": [
              "<div>\n",
              "<style scoped>\n",
              "    .dataframe tbody tr th:only-of-type {\n",
              "        vertical-align: middle;\n",
              "    }\n",
              "\n",
              "    .dataframe tbody tr th {\n",
              "        vertical-align: top;\n",
              "    }\n",
              "\n",
              "    .dataframe thead th {\n",
              "        text-align: right;\n",
              "    }\n",
              "</style>\n",
              "<table border=\"1\" class=\"dataframe\">\n",
              "  <thead>\n",
              "    <tr style=\"text-align: right;\">\n",
              "      <th></th>\n",
              "      <th>Lat_x</th>\n",
              "      <th>Long_x</th>\n",
              "      <th>Cases_x</th>\n",
              "      <th>Lat_y</th>\n",
              "      <th>Long_y</th>\n",
              "      <th>Cases_y</th>\n",
              "    </tr>\n",
              "    <tr>\n",
              "      <th>Date</th>\n",
              "      <th></th>\n",
              "      <th></th>\n",
              "      <th></th>\n",
              "      <th></th>\n",
              "      <th></th>\n",
              "      <th></th>\n",
              "    </tr>\n",
              "  </thead>\n",
              "  <tbody>\n",
              "    <tr>\n",
              "      <th>1/22/20</th>\n",
              "      <td>51.9194</td>\n",
              "      <td>19.1451</td>\n",
              "      <td>0</td>\n",
              "      <td>30.9756</td>\n",
              "      <td>112.2707</td>\n",
              "      <td>444</td>\n",
              "    </tr>\n",
              "    <tr>\n",
              "      <th>1/23/20</th>\n",
              "      <td>51.9194</td>\n",
              "      <td>19.1451</td>\n",
              "      <td>0</td>\n",
              "      <td>30.9756</td>\n",
              "      <td>112.2707</td>\n",
              "      <td>444</td>\n",
              "    </tr>\n",
              "    <tr>\n",
              "      <th>1/24/20</th>\n",
              "      <td>51.9194</td>\n",
              "      <td>19.1451</td>\n",
              "      <td>0</td>\n",
              "      <td>30.9756</td>\n",
              "      <td>112.2707</td>\n",
              "      <td>549</td>\n",
              "    </tr>\n",
              "    <tr>\n",
              "      <th>1/25/20</th>\n",
              "      <td>51.9194</td>\n",
              "      <td>19.1451</td>\n",
              "      <td>0</td>\n",
              "      <td>30.9756</td>\n",
              "      <td>112.2707</td>\n",
              "      <td>761</td>\n",
              "    </tr>\n",
              "    <tr>\n",
              "      <th>1/26/20</th>\n",
              "      <td>51.9194</td>\n",
              "      <td>19.1451</td>\n",
              "      <td>0</td>\n",
              "      <td>30.9756</td>\n",
              "      <td>112.2707</td>\n",
              "      <td>1058</td>\n",
              "    </tr>\n",
              "    <tr>\n",
              "      <th>1/27/20</th>\n",
              "      <td>51.9194</td>\n",
              "      <td>19.1451</td>\n",
              "      <td>0</td>\n",
              "      <td>30.9756</td>\n",
              "      <td>112.2707</td>\n",
              "      <td>1423</td>\n",
              "    </tr>\n",
              "    <tr>\n",
              "      <th>1/28/20</th>\n",
              "      <td>51.9194</td>\n",
              "      <td>19.1451</td>\n",
              "      <td>0</td>\n",
              "      <td>30.9756</td>\n",
              "      <td>112.2707</td>\n",
              "      <td>3554</td>\n",
              "    </tr>\n",
              "    <tr>\n",
              "      <th>1/29/20</th>\n",
              "      <td>51.9194</td>\n",
              "      <td>19.1451</td>\n",
              "      <td>0</td>\n",
              "      <td>30.9756</td>\n",
              "      <td>112.2707</td>\n",
              "      <td>3554</td>\n",
              "    </tr>\n",
              "    <tr>\n",
              "      <th>1/30/20</th>\n",
              "      <td>51.9194</td>\n",
              "      <td>19.1451</td>\n",
              "      <td>0</td>\n",
              "      <td>30.9756</td>\n",
              "      <td>112.2707</td>\n",
              "      <td>4903</td>\n",
              "    </tr>\n",
              "    <tr>\n",
              "      <th>1/31/20</th>\n",
              "      <td>51.9194</td>\n",
              "      <td>19.1451</td>\n",
              "      <td>0</td>\n",
              "      <td>30.9756</td>\n",
              "      <td>112.2707</td>\n",
              "      <td>5806</td>\n",
              "    </tr>\n",
              "    <tr>\n",
              "      <th>2/1/20</th>\n",
              "      <td>51.9194</td>\n",
              "      <td>19.1451</td>\n",
              "      <td>0</td>\n",
              "      <td>30.9756</td>\n",
              "      <td>112.2707</td>\n",
              "      <td>7153</td>\n",
              "    </tr>\n",
              "    <tr>\n",
              "      <th>2/2/20</th>\n",
              "      <td>51.9194</td>\n",
              "      <td>19.1451</td>\n",
              "      <td>0</td>\n",
              "      <td>30.9756</td>\n",
              "      <td>112.2707</td>\n",
              "      <td>11177</td>\n",
              "    </tr>\n",
              "    <tr>\n",
              "      <th>2/3/20</th>\n",
              "      <td>51.9194</td>\n",
              "      <td>19.1451</td>\n",
              "      <td>0</td>\n",
              "      <td>30.9756</td>\n",
              "      <td>112.2707</td>\n",
              "      <td>13522</td>\n",
              "    </tr>\n",
              "    <tr>\n",
              "      <th>2/4/20</th>\n",
              "      <td>51.9194</td>\n",
              "      <td>19.1451</td>\n",
              "      <td>0</td>\n",
              "      <td>30.9756</td>\n",
              "      <td>112.2707</td>\n",
              "      <td>16678</td>\n",
              "    </tr>\n",
              "    <tr>\n",
              "      <th>2/5/20</th>\n",
              "      <td>51.9194</td>\n",
              "      <td>19.1451</td>\n",
              "      <td>0</td>\n",
              "      <td>30.9756</td>\n",
              "      <td>112.2707</td>\n",
              "      <td>19665</td>\n",
              "    </tr>\n",
              "    <tr>\n",
              "      <th>2/6/20</th>\n",
              "      <td>51.9194</td>\n",
              "      <td>19.1451</td>\n",
              "      <td>0</td>\n",
              "      <td>30.9756</td>\n",
              "      <td>112.2707</td>\n",
              "      <td>22112</td>\n",
              "    </tr>\n",
              "    <tr>\n",
              "      <th>2/7/20</th>\n",
              "      <td>51.9194</td>\n",
              "      <td>19.1451</td>\n",
              "      <td>0</td>\n",
              "      <td>30.9756</td>\n",
              "      <td>112.2707</td>\n",
              "      <td>24953</td>\n",
              "    </tr>\n",
              "    <tr>\n",
              "      <th>2/8/20</th>\n",
              "      <td>51.9194</td>\n",
              "      <td>19.1451</td>\n",
              "      <td>0</td>\n",
              "      <td>30.9756</td>\n",
              "      <td>112.2707</td>\n",
              "      <td>27100</td>\n",
              "    </tr>\n",
              "    <tr>\n",
              "      <th>2/9/20</th>\n",
              "      <td>51.9194</td>\n",
              "      <td>19.1451</td>\n",
              "      <td>0</td>\n",
              "      <td>30.9756</td>\n",
              "      <td>112.2707</td>\n",
              "      <td>29631</td>\n",
              "    </tr>\n",
              "    <tr>\n",
              "      <th>2/10/20</th>\n",
              "      <td>51.9194</td>\n",
              "      <td>19.1451</td>\n",
              "      <td>0</td>\n",
              "      <td>30.9756</td>\n",
              "      <td>112.2707</td>\n",
              "      <td>31728</td>\n",
              "    </tr>\n",
              "    <tr>\n",
              "      <th>2/11/20</th>\n",
              "      <td>51.9194</td>\n",
              "      <td>19.1451</td>\n",
              "      <td>0</td>\n",
              "      <td>30.9756</td>\n",
              "      <td>112.2707</td>\n",
              "      <td>33366</td>\n",
              "    </tr>\n",
              "    <tr>\n",
              "      <th>2/12/20</th>\n",
              "      <td>51.9194</td>\n",
              "      <td>19.1451</td>\n",
              "      <td>0</td>\n",
              "      <td>30.9756</td>\n",
              "      <td>112.2707</td>\n",
              "      <td>33366</td>\n",
              "    </tr>\n",
              "    <tr>\n",
              "      <th>2/13/20</th>\n",
              "      <td>51.9194</td>\n",
              "      <td>19.1451</td>\n",
              "      <td>0</td>\n",
              "      <td>30.9756</td>\n",
              "      <td>112.2707</td>\n",
              "      <td>48206</td>\n",
              "    </tr>\n",
              "    <tr>\n",
              "      <th>2/14/20</th>\n",
              "      <td>51.9194</td>\n",
              "      <td>19.1451</td>\n",
              "      <td>0</td>\n",
              "      <td>30.9756</td>\n",
              "      <td>112.2707</td>\n",
              "      <td>54406</td>\n",
              "    </tr>\n",
              "    <tr>\n",
              "      <th>2/15/20</th>\n",
              "      <td>51.9194</td>\n",
              "      <td>19.1451</td>\n",
              "      <td>0</td>\n",
              "      <td>30.9756</td>\n",
              "      <td>112.2707</td>\n",
              "      <td>56249</td>\n",
              "    </tr>\n",
              "    <tr>\n",
              "      <th>2/16/20</th>\n",
              "      <td>51.9194</td>\n",
              "      <td>19.1451</td>\n",
              "      <td>0</td>\n",
              "      <td>30.9756</td>\n",
              "      <td>112.2707</td>\n",
              "      <td>58182</td>\n",
              "    </tr>\n",
              "    <tr>\n",
              "      <th>2/17/20</th>\n",
              "      <td>51.9194</td>\n",
              "      <td>19.1451</td>\n",
              "      <td>0</td>\n",
              "      <td>30.9756</td>\n",
              "      <td>112.2707</td>\n",
              "      <td>59989</td>\n",
              "    </tr>\n",
              "    <tr>\n",
              "      <th>2/18/20</th>\n",
              "      <td>51.9194</td>\n",
              "      <td>19.1451</td>\n",
              "      <td>0</td>\n",
              "      <td>30.9756</td>\n",
              "      <td>112.2707</td>\n",
              "      <td>61682</td>\n",
              "    </tr>\n",
              "    <tr>\n",
              "      <th>2/19/20</th>\n",
              "      <td>51.9194</td>\n",
              "      <td>19.1451</td>\n",
              "      <td>0</td>\n",
              "      <td>30.9756</td>\n",
              "      <td>112.2707</td>\n",
              "      <td>62031</td>\n",
              "    </tr>\n",
              "    <tr>\n",
              "      <th>2/20/20</th>\n",
              "      <td>51.9194</td>\n",
              "      <td>19.1451</td>\n",
              "      <td>0</td>\n",
              "      <td>30.9756</td>\n",
              "      <td>112.2707</td>\n",
              "      <td>62442</td>\n",
              "    </tr>\n",
              "    <tr>\n",
              "      <th>2/21/20</th>\n",
              "      <td>51.9194</td>\n",
              "      <td>19.1451</td>\n",
              "      <td>0</td>\n",
              "      <td>30.9756</td>\n",
              "      <td>112.2707</td>\n",
              "      <td>62662</td>\n",
              "    </tr>\n",
              "    <tr>\n",
              "      <th>2/22/20</th>\n",
              "      <td>51.9194</td>\n",
              "      <td>19.1451</td>\n",
              "      <td>0</td>\n",
              "      <td>30.9756</td>\n",
              "      <td>112.2707</td>\n",
              "      <td>64084</td>\n",
              "    </tr>\n",
              "    <tr>\n",
              "      <th>2/23/20</th>\n",
              "      <td>51.9194</td>\n",
              "      <td>19.1451</td>\n",
              "      <td>0</td>\n",
              "      <td>30.9756</td>\n",
              "      <td>112.2707</td>\n",
              "      <td>64084</td>\n",
              "    </tr>\n",
              "    <tr>\n",
              "      <th>2/24/20</th>\n",
              "      <td>51.9194</td>\n",
              "      <td>19.1451</td>\n",
              "      <td>0</td>\n",
              "      <td>30.9756</td>\n",
              "      <td>112.2707</td>\n",
              "      <td>64287</td>\n",
              "    </tr>\n",
              "    <tr>\n",
              "      <th>2/25/20</th>\n",
              "      <td>51.9194</td>\n",
              "      <td>19.1451</td>\n",
              "      <td>0</td>\n",
              "      <td>30.9756</td>\n",
              "      <td>112.2707</td>\n",
              "      <td>64786</td>\n",
              "    </tr>\n",
              "    <tr>\n",
              "      <th>2/26/20</th>\n",
              "      <td>51.9194</td>\n",
              "      <td>19.1451</td>\n",
              "      <td>0</td>\n",
              "      <td>30.9756</td>\n",
              "      <td>112.2707</td>\n",
              "      <td>65187</td>\n",
              "    </tr>\n",
              "    <tr>\n",
              "      <th>2/27/20</th>\n",
              "      <td>51.9194</td>\n",
              "      <td>19.1451</td>\n",
              "      <td>0</td>\n",
              "      <td>30.9756</td>\n",
              "      <td>112.2707</td>\n",
              "      <td>65596</td>\n",
              "    </tr>\n",
              "    <tr>\n",
              "      <th>2/28/20</th>\n",
              "      <td>51.9194</td>\n",
              "      <td>19.1451</td>\n",
              "      <td>0</td>\n",
              "      <td>30.9756</td>\n",
              "      <td>112.2707</td>\n",
              "      <td>65914</td>\n",
              "    </tr>\n",
              "    <tr>\n",
              "      <th>2/29/20</th>\n",
              "      <td>51.9194</td>\n",
              "      <td>19.1451</td>\n",
              "      <td>0</td>\n",
              "      <td>30.9756</td>\n",
              "      <td>112.2707</td>\n",
              "      <td>66337</td>\n",
              "    </tr>\n",
              "    <tr>\n",
              "      <th>3/1/20</th>\n",
              "      <td>51.9194</td>\n",
              "      <td>19.1451</td>\n",
              "      <td>0</td>\n",
              "      <td>30.9756</td>\n",
              "      <td>112.2707</td>\n",
              "      <td>66907</td>\n",
              "    </tr>\n",
              "    <tr>\n",
              "      <th>3/2/20</th>\n",
              "      <td>51.9194</td>\n",
              "      <td>19.1451</td>\n",
              "      <td>0</td>\n",
              "      <td>30.9756</td>\n",
              "      <td>112.2707</td>\n",
              "      <td>67103</td>\n",
              "    </tr>\n",
              "    <tr>\n",
              "      <th>3/3/20</th>\n",
              "      <td>51.9194</td>\n",
              "      <td>19.1451</td>\n",
              "      <td>0</td>\n",
              "      <td>30.9756</td>\n",
              "      <td>112.2707</td>\n",
              "      <td>67217</td>\n",
              "    </tr>\n",
              "    <tr>\n",
              "      <th>3/4/20</th>\n",
              "      <td>51.9194</td>\n",
              "      <td>19.1451</td>\n",
              "      <td>1</td>\n",
              "      <td>30.9756</td>\n",
              "      <td>112.2707</td>\n",
              "      <td>67332</td>\n",
              "    </tr>\n",
              "    <tr>\n",
              "      <th>3/5/20</th>\n",
              "      <td>51.9194</td>\n",
              "      <td>19.1451</td>\n",
              "      <td>1</td>\n",
              "      <td>30.9756</td>\n",
              "      <td>112.2707</td>\n",
              "      <td>67466</td>\n",
              "    </tr>\n",
              "    <tr>\n",
              "      <th>3/6/20</th>\n",
              "      <td>51.9194</td>\n",
              "      <td>19.1451</td>\n",
              "      <td>5</td>\n",
              "      <td>30.9756</td>\n",
              "      <td>112.2707</td>\n",
              "      <td>67592</td>\n",
              "    </tr>\n",
              "    <tr>\n",
              "      <th>3/7/20</th>\n",
              "      <td>51.9194</td>\n",
              "      <td>19.1451</td>\n",
              "      <td>5</td>\n",
              "      <td>30.9756</td>\n",
              "      <td>112.2707</td>\n",
              "      <td>67666</td>\n",
              "    </tr>\n",
              "    <tr>\n",
              "      <th>3/8/20</th>\n",
              "      <td>51.9194</td>\n",
              "      <td>19.1451</td>\n",
              "      <td>11</td>\n",
              "      <td>30.9756</td>\n",
              "      <td>112.2707</td>\n",
              "      <td>67707</td>\n",
              "    </tr>\n",
              "    <tr>\n",
              "      <th>3/9/20</th>\n",
              "      <td>51.9194</td>\n",
              "      <td>19.1451</td>\n",
              "      <td>16</td>\n",
              "      <td>30.9756</td>\n",
              "      <td>112.2707</td>\n",
              "      <td>67743</td>\n",
              "    </tr>\n",
              "    <tr>\n",
              "      <th>3/10/20</th>\n",
              "      <td>51.9194</td>\n",
              "      <td>19.1451</td>\n",
              "      <td>22</td>\n",
              "      <td>30.9756</td>\n",
              "      <td>112.2707</td>\n",
              "      <td>67760</td>\n",
              "    </tr>\n",
              "    <tr>\n",
              "      <th>3/11/20</th>\n",
              "      <td>51.9194</td>\n",
              "      <td>19.1451</td>\n",
              "      <td>31</td>\n",
              "      <td>30.9756</td>\n",
              "      <td>112.2707</td>\n",
              "      <td>67773</td>\n",
              "    </tr>\n",
              "  </tbody>\n",
              "</table>\n",
              "</div>"
            ],
            "text/plain": [
              "           Lat_x   Long_x  Cases_x    Lat_y    Long_y  Cases_y\n",
              "Date                                                          \n",
              "1/22/20  51.9194  19.1451        0  30.9756  112.2707      444\n",
              "1/23/20  51.9194  19.1451        0  30.9756  112.2707      444\n",
              "1/24/20  51.9194  19.1451        0  30.9756  112.2707      549\n",
              "1/25/20  51.9194  19.1451        0  30.9756  112.2707      761\n",
              "1/26/20  51.9194  19.1451        0  30.9756  112.2707     1058\n",
              "1/27/20  51.9194  19.1451        0  30.9756  112.2707     1423\n",
              "1/28/20  51.9194  19.1451        0  30.9756  112.2707     3554\n",
              "1/29/20  51.9194  19.1451        0  30.9756  112.2707     3554\n",
              "1/30/20  51.9194  19.1451        0  30.9756  112.2707     4903\n",
              "1/31/20  51.9194  19.1451        0  30.9756  112.2707     5806\n",
              "2/1/20   51.9194  19.1451        0  30.9756  112.2707     7153\n",
              "2/2/20   51.9194  19.1451        0  30.9756  112.2707    11177\n",
              "2/3/20   51.9194  19.1451        0  30.9756  112.2707    13522\n",
              "2/4/20   51.9194  19.1451        0  30.9756  112.2707    16678\n",
              "2/5/20   51.9194  19.1451        0  30.9756  112.2707    19665\n",
              "2/6/20   51.9194  19.1451        0  30.9756  112.2707    22112\n",
              "2/7/20   51.9194  19.1451        0  30.9756  112.2707    24953\n",
              "2/8/20   51.9194  19.1451        0  30.9756  112.2707    27100\n",
              "2/9/20   51.9194  19.1451        0  30.9756  112.2707    29631\n",
              "2/10/20  51.9194  19.1451        0  30.9756  112.2707    31728\n",
              "2/11/20  51.9194  19.1451        0  30.9756  112.2707    33366\n",
              "2/12/20  51.9194  19.1451        0  30.9756  112.2707    33366\n",
              "2/13/20  51.9194  19.1451        0  30.9756  112.2707    48206\n",
              "2/14/20  51.9194  19.1451        0  30.9756  112.2707    54406\n",
              "2/15/20  51.9194  19.1451        0  30.9756  112.2707    56249\n",
              "2/16/20  51.9194  19.1451        0  30.9756  112.2707    58182\n",
              "2/17/20  51.9194  19.1451        0  30.9756  112.2707    59989\n",
              "2/18/20  51.9194  19.1451        0  30.9756  112.2707    61682\n",
              "2/19/20  51.9194  19.1451        0  30.9756  112.2707    62031\n",
              "2/20/20  51.9194  19.1451        0  30.9756  112.2707    62442\n",
              "2/21/20  51.9194  19.1451        0  30.9756  112.2707    62662\n",
              "2/22/20  51.9194  19.1451        0  30.9756  112.2707    64084\n",
              "2/23/20  51.9194  19.1451        0  30.9756  112.2707    64084\n",
              "2/24/20  51.9194  19.1451        0  30.9756  112.2707    64287\n",
              "2/25/20  51.9194  19.1451        0  30.9756  112.2707    64786\n",
              "2/26/20  51.9194  19.1451        0  30.9756  112.2707    65187\n",
              "2/27/20  51.9194  19.1451        0  30.9756  112.2707    65596\n",
              "2/28/20  51.9194  19.1451        0  30.9756  112.2707    65914\n",
              "2/29/20  51.9194  19.1451        0  30.9756  112.2707    66337\n",
              "3/1/20   51.9194  19.1451        0  30.9756  112.2707    66907\n",
              "3/2/20   51.9194  19.1451        0  30.9756  112.2707    67103\n",
              "3/3/20   51.9194  19.1451        0  30.9756  112.2707    67217\n",
              "3/4/20   51.9194  19.1451        1  30.9756  112.2707    67332\n",
              "3/5/20   51.9194  19.1451        1  30.9756  112.2707    67466\n",
              "3/6/20   51.9194  19.1451        5  30.9756  112.2707    67592\n",
              "3/7/20   51.9194  19.1451        5  30.9756  112.2707    67666\n",
              "3/8/20   51.9194  19.1451       11  30.9756  112.2707    67707\n",
              "3/9/20   51.9194  19.1451       16  30.9756  112.2707    67743\n",
              "3/10/20  51.9194  19.1451       22  30.9756  112.2707    67760\n",
              "3/11/20  51.9194  19.1451       31  30.9756  112.2707    67773"
            ]
          },
          "metadata": {
            "tags": []
          },
          "execution_count": 27
        }
      ]
    },
    {
      "cell_type": "code",
      "metadata": {
        "id": "FD3_153ITM9V",
        "colab_type": "code",
        "outputId": "3b2dd8ac-706d-471c-e164-1475629a3173",
        "colab": {
          "base_uri": "https://localhost:8080/",
          "height": 513
        }
      },
      "source": [
        "razem.plot(y=['Cases_x', 'Cases_y'], figsize=(12,8), marker='o', title='Przypadki potwierdzone wykrycia COVID-19', logy=True)\n",
        "plt.show()"
      ],
      "execution_count": 0,
      "outputs": [
        {
          "output_type": "display_data",
          "data": {
            "image/png": "[encoded data removed]",
            "text/plain": [
              "<Figure size 864x576 with 1 Axes>"
            ]
          },
          "metadata": {
            "tags": []
          }
        }
      ]
    },
    {
      "cell_type": "code",
      "metadata": {
        "id": "eBw2gOHqU27R",
        "colab_type": "code",
        "colab": {}
      },
      "source": [
        "lista = [1,2,3,4,5,6]"
      ],
      "execution_count": 0,
      "outputs": []
    },
    {
      "cell_type": "code",
      "metadata": {
        "id": "hw5PnYolV6PV",
        "colab_type": "code",
        "outputId": "71710337-18fa-44c8-e0d0-55c8b307ef8a",
        "colab": {
          "base_uri": "https://localhost:8080/",
          "height": 34
        }
      },
      "source": [
        "lista[::2]"
      ],
      "execution_count": 0,
      "outputs": [
        {
          "output_type": "execute_result",
          "data": {
            "text/plain": [
              "[1, 3, 5]"
            ]
          },
          "metadata": {
            "tags": []
          },
          "execution_count": 39
        }
      ]
    },
    {
      "cell_type": "code",
      "metadata": {
        "id": "qPYJdhLjV9I1",
        "colab_type": "code",
        "colab": {}
      },
      "source": [
        "lista2= [3,3,3,3,3,3]"
      ],
      "execution_count": 0,
      "outputs": []
    },
    {
      "cell_type": "code",
      "metadata": {
        "id": "H1Ut_Dc-WX0k",
        "colab_type": "code",
        "outputId": "d9656ed0-0958-4e12-b711-8c5a3e6d5d72",
        "colab": {
          "base_uri": "https://localhost:8080/",
          "height": 34
        }
      },
      "source": [
        "lista+lista2"
      ],
      "execution_count": 0,
      "outputs": [
        {
          "output_type": "execute_result",
          "data": {
            "text/plain": [
              "[1, 2, 3, 4, 5, 6, 3, 3, 3, 3, 3, 3]"
            ]
          },
          "metadata": {
            "tags": []
          },
          "execution_count": 41
        }
      ]
    },
    {
      "cell_type": "code",
      "metadata": {
        "id": "-r9vtlb0WzHW",
        "colab_type": "code",
        "colab": {}
      },
      "source": [
        "lista3=[0,0,0,0,0]"
      ],
      "execution_count": 0,
      "outputs": []
    },
    {
      "cell_type": "code",
      "metadata": {
        "id": "ui7tHzVrWaj_",
        "colab_type": "code",
        "colab": {}
      },
      "source": [
        "for i in range(5):\n",
        "  lista3[i]=lista[i]+lista2[i]\n",
        "\n"
      ],
      "execution_count": 0,
      "outputs": []
    },
    {
      "cell_type": "code",
      "metadata": {
        "id": "MJt7KCSDWko-",
        "colab_type": "code",
        "outputId": "8526ae42-8ac6-480f-f783-dc7577b83b90",
        "colab": {
          "base_uri": "https://localhost:8080/",
          "height": 34
        }
      },
      "source": [
        "lista3"
      ],
      "execution_count": 0,
      "outputs": [
        {
          "output_type": "execute_result",
          "data": {
            "text/plain": [
              "[4, 5, 6, 7, 8]"
            ]
          },
          "metadata": {
            "tags": []
          },
          "execution_count": 53
        }
      ]
    },
    {
      "cell_type": "code",
      "metadata": {
        "id": "iv9SIhHPWl_O",
        "colab_type": "code",
        "outputId": "280c17fc-378c-473d-aa1a-1bda0eb979f7",
        "colab": {
          "base_uri": "https://localhost:8080/",
          "height": 34
        }
      },
      "source": [
        "np.array(lista)+np.array(lista2)"
      ],
      "execution_count": 0,
      "outputs": [
        {
          "output_type": "execute_result",
          "data": {
            "text/plain": [
              "array([4, 5, 6, 7, 8, 9])"
            ]
          },
          "metadata": {
            "tags": []
          },
          "execution_count": 57
        }
      ]
    },
    {
      "cell_type": "code",
      "metadata": {
        "id": "tdt_c-4bXIhe",
        "colab_type": "code",
        "colab": {}
      },
      "source": [
        "razemsuma=np.array(razem['Cases_x'])+np.array(razem['Cases_y'])"
      ],
      "execution_count": 0,
      "outputs": []
    },
    {
      "cell_type": "code",
      "metadata": {
        "id": "RujF_whsX5oJ",
        "colab_type": "code",
        "colab": {}
      },
      "source": [
        "razemsuma=razem['Cases_x']+razem['Cases_y']"
      ],
      "execution_count": 0,
      "outputs": []
    },
    {
      "cell_type": "code",
      "metadata": {
        "id": "kfp1uvAHYqT5",
        "colab_type": "code",
        "outputId": "7f7c0c60-2363-4ad2-d141-3b16a5d00c38",
        "colab": {
          "base_uri": "https://localhost:8080/",
          "height": 901
        }
      },
      "source": [
        "razemsuma"
      ],
      "execution_count": 0,
      "outputs": [
        {
          "output_type": "execute_result",
          "data": {
            "text/plain": [
              "Date\n",
              "1/22/20      444\n",
              "1/23/20      444\n",
              "1/24/20      549\n",
              "1/25/20      761\n",
              "1/26/20     1058\n",
              "1/27/20     1423\n",
              "1/28/20     3554\n",
              "1/29/20     3554\n",
              "1/30/20     4903\n",
              "1/31/20     5806\n",
              "2/1/20      7153\n",
              "2/2/20     11177\n",
              "2/3/20     13522\n",
              "2/4/20     16678\n",
              "2/5/20     19665\n",
              "2/6/20     22112\n",
              "2/7/20     24953\n",
              "2/8/20     27100\n",
              "2/9/20     29631\n",
              "2/10/20    31728\n",
              "2/11/20    33366\n",
              "2/12/20    33366\n",
              "2/13/20    48206\n",
              "2/14/20    54406\n",
              "2/15/20    56249\n",
              "2/16/20    58182\n",
              "2/17/20    59989\n",
              "2/18/20    61682\n",
              "2/19/20    62031\n",
              "2/20/20    62442\n",
              "2/21/20    62662\n",
              "2/22/20    64084\n",
              "2/23/20    64084\n",
              "2/24/20    64287\n",
              "2/25/20    64786\n",
              "2/26/20    65187\n",
              "2/27/20    65596\n",
              "2/28/20    65914\n",
              "2/29/20    66337\n",
              "3/1/20     66907\n",
              "3/2/20     67103\n",
              "3/3/20     67217\n",
              "3/4/20     67333\n",
              "3/5/20     67467\n",
              "3/6/20     67597\n",
              "3/7/20     67671\n",
              "3/8/20     67718\n",
              "3/9/20     67759\n",
              "3/10/20    67782\n",
              "3/11/20    67804\n",
              "dtype: int64"
            ]
          },
          "metadata": {
            "tags": []
          },
          "execution_count": 68
        }
      ]
    },
    {
      "cell_type": "code",
      "metadata": {
        "id": "C_ZCxEalX9En",
        "colab_type": "code",
        "outputId": "858ef273-779c-42b9-fa11-ee988e7c236c",
        "colab": {
          "base_uri": "https://localhost:8080/",
          "height": 901
        }
      },
      "source": [
        "razem['Cases_y']"
      ],
      "execution_count": 0,
      "outputs": [
        {
          "output_type": "execute_result",
          "data": {
            "text/plain": [
              "Date\n",
              "1/22/20      444\n",
              "1/23/20      444\n",
              "1/24/20      549\n",
              "1/25/20      761\n",
              "1/26/20     1058\n",
              "1/27/20     1423\n",
              "1/28/20     3554\n",
              "1/29/20     3554\n",
              "1/30/20     4903\n",
              "1/31/20     5806\n",
              "2/1/20      7153\n",
              "2/2/20     11177\n",
              "2/3/20     13522\n",
              "2/4/20     16678\n",
              "2/5/20     19665\n",
              "2/6/20     22112\n",
              "2/7/20     24953\n",
              "2/8/20     27100\n",
              "2/9/20     29631\n",
              "2/10/20    31728\n",
              "2/11/20    33366\n",
              "2/12/20    33366\n",
              "2/13/20    48206\n",
              "2/14/20    54406\n",
              "2/15/20    56249\n",
              "2/16/20    58182\n",
              "2/17/20    59989\n",
              "2/18/20    61682\n",
              "2/19/20    62031\n",
              "2/20/20    62442\n",
              "2/21/20    62662\n",
              "2/22/20    64084\n",
              "2/23/20    64084\n",
              "2/24/20    64287\n",
              "2/25/20    64786\n",
              "2/26/20    65187\n",
              "2/27/20    65596\n",
              "2/28/20    65914\n",
              "2/29/20    66337\n",
              "3/1/20     66907\n",
              "3/2/20     67103\n",
              "3/3/20     67217\n",
              "3/4/20     67332\n",
              "3/5/20     67466\n",
              "3/6/20     67592\n",
              "3/7/20     67666\n",
              "3/8/20     67707\n",
              "3/9/20     67743\n",
              "3/10/20    67760\n",
              "3/11/20    67773\n",
              "Name: Cases_y, dtype: int64"
            ]
          },
          "metadata": {
            "tags": []
          },
          "execution_count": 62
        }
      ]
    },
    {
      "cell_type": "code",
      "metadata": {
        "colab_type": "code",
        "outputId": "a9c8820b-15b4-486e-c771-c576a9114541",
        "id": "MVAgkGZVZBMC",
        "colab": {
          "base_uri": "https://localhost:8080/",
          "height": 530
        }
      },
      "source": [
        "polska.tail(20).plot(y='Cases', figsize=(12,8), marker='o', title='Przypadki potwierdzone wykrycia COVID-19')\n"
      ],
      "execution_count": 0,
      "outputs": [
        {
          "output_type": "execute_result",
          "data": {
            "text/plain": [
              "<matplotlib.axes._subplots.AxesSubplot at 0x7f08470d95c0>"
            ]
          },
          "metadata": {
            "tags": []
          },
          "execution_count": 16
        },
        {
          "output_type": "display_data",
          "data": {
            "image/png": "[encoded data removed]",
            "text/plain": [
              "<Figure size 864x576 with 1 Axes>"
            ]
          },
          "metadata": {
            "tags": []
          }
        }
      ]
    },
    {
      "cell_type": "code",
      "metadata": {
        "id": "z6CECPvPY4y8",
        "colab_type": "code",
        "outputId": "26477af9-2f4a-48ee-fa82-b4c627870c8b",
        "colab": {
          "base_uri": "https://localhost:8080/",
          "height": 390
        }
      },
      "source": [
        "polska.tail(10)"
      ],
      "execution_count": 0,
      "outputs": [
        {
          "output_type": "execute_result",
          "data": {
            "text/html": [
              "<div>\n",
              "<style scoped>\n",
              "    .dataframe tbody tr th:only-of-type {\n",
              "        vertical-align: middle;\n",
              "    }\n",
              "\n",
              "    .dataframe tbody tr th {\n",
              "        vertical-align: top;\n",
              "    }\n",
              "\n",
              "    .dataframe thead th {\n",
              "        text-align: right;\n",
              "    }\n",
              "</style>\n",
              "<table border=\"1\" class=\"dataframe\">\n",
              "  <thead>\n",
              "    <tr style=\"text-align: right;\">\n",
              "      <th></th>\n",
              "      <th></th>\n",
              "      <th>Lat</th>\n",
              "      <th>Long</th>\n",
              "      <th>Cases</th>\n",
              "    </tr>\n",
              "    <tr>\n",
              "      <th>Province/State</th>\n",
              "      <th>Date</th>\n",
              "      <th></th>\n",
              "      <th></th>\n",
              "      <th></th>\n",
              "    </tr>\n",
              "  </thead>\n",
              "  <tbody>\n",
              "    <tr>\n",
              "      <th rowspan=\"10\" valign=\"top\">NaN</th>\n",
              "      <th>3/2/20</th>\n",
              "      <td>51.9194</td>\n",
              "      <td>19.1451</td>\n",
              "      <td>0</td>\n",
              "    </tr>\n",
              "    <tr>\n",
              "      <th>3/3/20</th>\n",
              "      <td>51.9194</td>\n",
              "      <td>19.1451</td>\n",
              "      <td>0</td>\n",
              "    </tr>\n",
              "    <tr>\n",
              "      <th>3/4/20</th>\n",
              "      <td>51.9194</td>\n",
              "      <td>19.1451</td>\n",
              "      <td>1</td>\n",
              "    </tr>\n",
              "    <tr>\n",
              "      <th>3/5/20</th>\n",
              "      <td>51.9194</td>\n",
              "      <td>19.1451</td>\n",
              "      <td>1</td>\n",
              "    </tr>\n",
              "    <tr>\n",
              "      <th>3/6/20</th>\n",
              "      <td>51.9194</td>\n",
              "      <td>19.1451</td>\n",
              "      <td>5</td>\n",
              "    </tr>\n",
              "    <tr>\n",
              "      <th>3/7/20</th>\n",
              "      <td>51.9194</td>\n",
              "      <td>19.1451</td>\n",
              "      <td>5</td>\n",
              "    </tr>\n",
              "    <tr>\n",
              "      <th>3/8/20</th>\n",
              "      <td>51.9194</td>\n",
              "      <td>19.1451</td>\n",
              "      <td>11</td>\n",
              "    </tr>\n",
              "    <tr>\n",
              "      <th>3/9/20</th>\n",
              "      <td>51.9194</td>\n",
              "      <td>19.1451</td>\n",
              "      <td>16</td>\n",
              "    </tr>\n",
              "    <tr>\n",
              "      <th>3/10/20</th>\n",
              "      <td>51.9194</td>\n",
              "      <td>19.1451</td>\n",
              "      <td>22</td>\n",
              "    </tr>\n",
              "    <tr>\n",
              "      <th>3/11/20</th>\n",
              "      <td>51.9194</td>\n",
              "      <td>19.1451</td>\n",
              "      <td>31</td>\n",
              "    </tr>\n",
              "  </tbody>\n",
              "</table>\n",
              "</div>"
            ],
            "text/plain": [
              "                            Lat     Long  Cases\n",
              "Province/State Date                            \n",
              "NaN            3/2/20   51.9194  19.1451      0\n",
              "               3/3/20   51.9194  19.1451      0\n",
              "               3/4/20   51.9194  19.1451      1\n",
              "               3/5/20   51.9194  19.1451      1\n",
              "               3/6/20   51.9194  19.1451      5\n",
              "               3/7/20   51.9194  19.1451      5\n",
              "               3/8/20   51.9194  19.1451     11\n",
              "               3/9/20   51.9194  19.1451     16\n",
              "               3/10/20  51.9194  19.1451     22\n",
              "               3/11/20  51.9194  19.1451     31"
            ]
          },
          "metadata": {
            "tags": []
          },
          "execution_count": 73
        }
      ]
    },
    {
      "cell_type": "code",
      "metadata": {
        "id": "WtXistZVZQBw",
        "colab_type": "code",
        "colab": {}
      },
      "source": [
        "przypadki=polska.Cases"
      ],
      "execution_count": 0,
      "outputs": []
    },
    {
      "cell_type": "code",
      "metadata": {
        "id": "yubCRdrlZVQa",
        "colab_type": "code",
        "outputId": "2eeb5617-422b-488c-fee1-d9303e2ab4da",
        "colab": {
          "base_uri": "https://localhost:8080/",
          "height": 153
        }
      },
      "source": [
        "for i in polska.Cases:\n",
        "  if (i>0): print('wykryto')"
      ],
      "execution_count": 0,
      "outputs": [
        {
          "output_type": "stream",
          "text": [
            "wykryto\n",
            "wykryto\n",
            "wykryto\n",
            "wykryto\n",
            "wykryto\n",
            "wykryto\n",
            "wykryto\n",
            "wykryto\n"
          ],
          "name": "stdout"
        }
      ]
    },
    {
      "cell_type": "code",
      "metadata": {
        "id": "zBIVgjI9Zkfz",
        "colab_type": "code",
        "outputId": "9eb3f401-3802-40ff-971c-0791a48e1978",
        "colab": {
          "base_uri": "https://localhost:8080/",
          "height": 289
        }
      },
      "source": [
        "for i in przypadki:\n",
        "  if i: \n",
        "    print('wykryto: ')\n",
        "    print(i)"
      ],
      "execution_count": 0,
      "outputs": [
        {
          "output_type": "stream",
          "text": [
            "wykryto: \n",
            "1\n",
            "wykryto: \n",
            "1\n",
            "wykryto: \n",
            "5\n",
            "wykryto: \n",
            "5\n",
            "wykryto: \n",
            "11\n",
            "wykryto: \n",
            "16\n",
            "wykryto: \n",
            "22\n",
            "wykryto: \n",
            "31\n"
          ],
          "name": "stdout"
        }
      ]
    },
    {
      "cell_type": "code",
      "metadata": {
        "id": "FGJWHkqOZ5jX",
        "colab_type": "code",
        "outputId": "7fa8eef4-7681-4360-dc37-5412fd171ec5",
        "colab": {
          "base_uri": "https://localhost:8080/",
          "height": 34
        }
      },
      "source": [
        "type(np.array(lista))\n"
      ],
      "execution_count": 0,
      "outputs": [
        {
          "output_type": "execute_result",
          "data": {
            "text/plain": [
              "numpy.ndarray"
            ]
          },
          "metadata": {
            "tags": []
          },
          "execution_count": 88
        }
      ]
    },
    {
      "cell_type": "code",
      "metadata": {
        "id": "o9K9QIGccx1P",
        "colab_type": "code",
        "colab": {}
      },
      "source": [
        ""
      ],
      "execution_count": 0,
      "outputs": []
    }
  ]
}